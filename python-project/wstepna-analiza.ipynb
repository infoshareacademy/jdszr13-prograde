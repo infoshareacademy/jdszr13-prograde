{
 "cells": [
  {
   "cell_type": "code",
   "execution_count": 21,
   "metadata": {},
   "outputs": [],
   "source": [
    "import pandas as pd\n",
    "import scipy.stats as st\n",
    "import numpy as np\n",
    "import matplotlib.pyplot as plt\n",
    "import math"
   ]
  },
  {
   "cell_type": "code",
   "execution_count": 2,
   "metadata": {},
   "outputs": [],
   "source": [
    "pd.set_option('display.max_columns', None)"
   ]
  },
  {
   "cell_type": "code",
   "execution_count": 95,
   "metadata": {},
   "outputs": [],
   "source": [
    "df = pd.read_csv(r'C:\\Users\\neumannp\\OneDrive - Jabil\\Desktop\\Bootcamp\\Grupa Prograte\\jdszr13-prograde\\python-project\\data\\pokemon.csv')"
   ]
  },
  {
   "cell_type": "code",
   "execution_count": 96,
   "metadata": {},
   "outputs": [
    {
     "data": {
      "text/html": [
       "<div>\n",
       "<style scoped>\n",
       "    .dataframe tbody tr th:only-of-type {\n",
       "        vertical-align: middle;\n",
       "    }\n",
       "\n",
       "    .dataframe tbody tr th {\n",
       "        vertical-align: top;\n",
       "    }\n",
       "\n",
       "    .dataframe thead th {\n",
       "        text-align: right;\n",
       "    }\n",
       "</style>\n",
       "<table border=\"1\" class=\"dataframe\">\n",
       "  <thead>\n",
       "    <tr style=\"text-align: right;\">\n",
       "      <th></th>\n",
       "      <th>abilities</th>\n",
       "      <th>against_bug</th>\n",
       "      <th>against_dark</th>\n",
       "      <th>against_dragon</th>\n",
       "      <th>against_electric</th>\n",
       "      <th>against_fairy</th>\n",
       "      <th>against_fight</th>\n",
       "      <th>against_fire</th>\n",
       "      <th>against_flying</th>\n",
       "      <th>against_ghost</th>\n",
       "      <th>against_grass</th>\n",
       "      <th>against_ground</th>\n",
       "      <th>against_ice</th>\n",
       "      <th>against_normal</th>\n",
       "      <th>against_poison</th>\n",
       "      <th>against_psychic</th>\n",
       "      <th>against_rock</th>\n",
       "      <th>against_steel</th>\n",
       "      <th>against_water</th>\n",
       "      <th>attack</th>\n",
       "      <th>base_egg_steps</th>\n",
       "      <th>base_happiness</th>\n",
       "      <th>base_total</th>\n",
       "      <th>capture_rate</th>\n",
       "      <th>classfication</th>\n",
       "      <th>defense</th>\n",
       "      <th>experience_growth</th>\n",
       "      <th>height_m</th>\n",
       "      <th>hp</th>\n",
       "      <th>japanese_name</th>\n",
       "      <th>name</th>\n",
       "      <th>percentage_male</th>\n",
       "      <th>pokedex_number</th>\n",
       "      <th>sp_attack</th>\n",
       "      <th>sp_defense</th>\n",
       "      <th>speed</th>\n",
       "      <th>type1</th>\n",
       "      <th>type2</th>\n",
       "      <th>weight_kg</th>\n",
       "      <th>generation</th>\n",
       "      <th>is_legendary</th>\n",
       "    </tr>\n",
       "  </thead>\n",
       "  <tbody>\n",
       "    <tr>\n",
       "      <th>0</th>\n",
       "      <td>['Overgrow', 'Chlorophyll']</td>\n",
       "      <td>1.0</td>\n",
       "      <td>1.0</td>\n",
       "      <td>1.0</td>\n",
       "      <td>0.5</td>\n",
       "      <td>0.5</td>\n",
       "      <td>0.5</td>\n",
       "      <td>2.0</td>\n",
       "      <td>2.0</td>\n",
       "      <td>1.0</td>\n",
       "      <td>0.25</td>\n",
       "      <td>1.0</td>\n",
       "      <td>2.0</td>\n",
       "      <td>1.0</td>\n",
       "      <td>1.0</td>\n",
       "      <td>2.0</td>\n",
       "      <td>1.0</td>\n",
       "      <td>1.0</td>\n",
       "      <td>0.5</td>\n",
       "      <td>49</td>\n",
       "      <td>5120</td>\n",
       "      <td>70</td>\n",
       "      <td>318</td>\n",
       "      <td>45</td>\n",
       "      <td>Seed Pokémon</td>\n",
       "      <td>49</td>\n",
       "      <td>1059860</td>\n",
       "      <td>0.7</td>\n",
       "      <td>45</td>\n",
       "      <td>Fushigidaneフシギダネ</td>\n",
       "      <td>Bulbasaur</td>\n",
       "      <td>88.1</td>\n",
       "      <td>1</td>\n",
       "      <td>65</td>\n",
       "      <td>65</td>\n",
       "      <td>45</td>\n",
       "      <td>grass</td>\n",
       "      <td>poison</td>\n",
       "      <td>6.9</td>\n",
       "      <td>1</td>\n",
       "      <td>0</td>\n",
       "    </tr>\n",
       "    <tr>\n",
       "      <th>1</th>\n",
       "      <td>['Overgrow', 'Chlorophyll']</td>\n",
       "      <td>1.0</td>\n",
       "      <td>1.0</td>\n",
       "      <td>1.0</td>\n",
       "      <td>0.5</td>\n",
       "      <td>0.5</td>\n",
       "      <td>0.5</td>\n",
       "      <td>2.0</td>\n",
       "      <td>2.0</td>\n",
       "      <td>1.0</td>\n",
       "      <td>0.25</td>\n",
       "      <td>1.0</td>\n",
       "      <td>2.0</td>\n",
       "      <td>1.0</td>\n",
       "      <td>1.0</td>\n",
       "      <td>2.0</td>\n",
       "      <td>1.0</td>\n",
       "      <td>1.0</td>\n",
       "      <td>0.5</td>\n",
       "      <td>62</td>\n",
       "      <td>5120</td>\n",
       "      <td>70</td>\n",
       "      <td>405</td>\n",
       "      <td>45</td>\n",
       "      <td>Seed Pokémon</td>\n",
       "      <td>63</td>\n",
       "      <td>1059860</td>\n",
       "      <td>1.0</td>\n",
       "      <td>60</td>\n",
       "      <td>Fushigisouフシギソウ</td>\n",
       "      <td>Ivysaur</td>\n",
       "      <td>88.1</td>\n",
       "      <td>2</td>\n",
       "      <td>80</td>\n",
       "      <td>80</td>\n",
       "      <td>60</td>\n",
       "      <td>grass</td>\n",
       "      <td>poison</td>\n",
       "      <td>13.0</td>\n",
       "      <td>1</td>\n",
       "      <td>0</td>\n",
       "    </tr>\n",
       "    <tr>\n",
       "      <th>2</th>\n",
       "      <td>['Overgrow', 'Chlorophyll']</td>\n",
       "      <td>1.0</td>\n",
       "      <td>1.0</td>\n",
       "      <td>1.0</td>\n",
       "      <td>0.5</td>\n",
       "      <td>0.5</td>\n",
       "      <td>0.5</td>\n",
       "      <td>2.0</td>\n",
       "      <td>2.0</td>\n",
       "      <td>1.0</td>\n",
       "      <td>0.25</td>\n",
       "      <td>1.0</td>\n",
       "      <td>2.0</td>\n",
       "      <td>1.0</td>\n",
       "      <td>1.0</td>\n",
       "      <td>2.0</td>\n",
       "      <td>1.0</td>\n",
       "      <td>1.0</td>\n",
       "      <td>0.5</td>\n",
       "      <td>100</td>\n",
       "      <td>5120</td>\n",
       "      <td>70</td>\n",
       "      <td>625</td>\n",
       "      <td>45</td>\n",
       "      <td>Seed Pokémon</td>\n",
       "      <td>123</td>\n",
       "      <td>1059860</td>\n",
       "      <td>2.0</td>\n",
       "      <td>80</td>\n",
       "      <td>Fushigibanaフシギバナ</td>\n",
       "      <td>Venusaur</td>\n",
       "      <td>88.1</td>\n",
       "      <td>3</td>\n",
       "      <td>122</td>\n",
       "      <td>120</td>\n",
       "      <td>80</td>\n",
       "      <td>grass</td>\n",
       "      <td>poison</td>\n",
       "      <td>100.0</td>\n",
       "      <td>1</td>\n",
       "      <td>0</td>\n",
       "    </tr>\n",
       "    <tr>\n",
       "      <th>3</th>\n",
       "      <td>['Blaze', 'Solar Power']</td>\n",
       "      <td>0.5</td>\n",
       "      <td>1.0</td>\n",
       "      <td>1.0</td>\n",
       "      <td>1.0</td>\n",
       "      <td>0.5</td>\n",
       "      <td>1.0</td>\n",
       "      <td>0.5</td>\n",
       "      <td>1.0</td>\n",
       "      <td>1.0</td>\n",
       "      <td>0.50</td>\n",
       "      <td>2.0</td>\n",
       "      <td>0.5</td>\n",
       "      <td>1.0</td>\n",
       "      <td>1.0</td>\n",
       "      <td>1.0</td>\n",
       "      <td>2.0</td>\n",
       "      <td>0.5</td>\n",
       "      <td>2.0</td>\n",
       "      <td>52</td>\n",
       "      <td>5120</td>\n",
       "      <td>70</td>\n",
       "      <td>309</td>\n",
       "      <td>45</td>\n",
       "      <td>Lizard Pokémon</td>\n",
       "      <td>43</td>\n",
       "      <td>1059860</td>\n",
       "      <td>0.6</td>\n",
       "      <td>39</td>\n",
       "      <td>Hitokageヒトカゲ</td>\n",
       "      <td>Charmander</td>\n",
       "      <td>88.1</td>\n",
       "      <td>4</td>\n",
       "      <td>60</td>\n",
       "      <td>50</td>\n",
       "      <td>65</td>\n",
       "      <td>fire</td>\n",
       "      <td>NaN</td>\n",
       "      <td>8.5</td>\n",
       "      <td>1</td>\n",
       "      <td>0</td>\n",
       "    </tr>\n",
       "    <tr>\n",
       "      <th>4</th>\n",
       "      <td>['Blaze', 'Solar Power']</td>\n",
       "      <td>0.5</td>\n",
       "      <td>1.0</td>\n",
       "      <td>1.0</td>\n",
       "      <td>1.0</td>\n",
       "      <td>0.5</td>\n",
       "      <td>1.0</td>\n",
       "      <td>0.5</td>\n",
       "      <td>1.0</td>\n",
       "      <td>1.0</td>\n",
       "      <td>0.50</td>\n",
       "      <td>2.0</td>\n",
       "      <td>0.5</td>\n",
       "      <td>1.0</td>\n",
       "      <td>1.0</td>\n",
       "      <td>1.0</td>\n",
       "      <td>2.0</td>\n",
       "      <td>0.5</td>\n",
       "      <td>2.0</td>\n",
       "      <td>64</td>\n",
       "      <td>5120</td>\n",
       "      <td>70</td>\n",
       "      <td>405</td>\n",
       "      <td>45</td>\n",
       "      <td>Flame Pokémon</td>\n",
       "      <td>58</td>\n",
       "      <td>1059860</td>\n",
       "      <td>1.1</td>\n",
       "      <td>58</td>\n",
       "      <td>Lizardoリザード</td>\n",
       "      <td>Charmeleon</td>\n",
       "      <td>88.1</td>\n",
       "      <td>5</td>\n",
       "      <td>80</td>\n",
       "      <td>65</td>\n",
       "      <td>80</td>\n",
       "      <td>fire</td>\n",
       "      <td>NaN</td>\n",
       "      <td>19.0</td>\n",
       "      <td>1</td>\n",
       "      <td>0</td>\n",
       "    </tr>\n",
       "  </tbody>\n",
       "</table>\n",
       "</div>"
      ],
      "text/plain": [
       "                     abilities  against_bug  against_dark  against_dragon  \\\n",
       "0  ['Overgrow', 'Chlorophyll']          1.0           1.0             1.0   \n",
       "1  ['Overgrow', 'Chlorophyll']          1.0           1.0             1.0   \n",
       "2  ['Overgrow', 'Chlorophyll']          1.0           1.0             1.0   \n",
       "3     ['Blaze', 'Solar Power']          0.5           1.0             1.0   \n",
       "4     ['Blaze', 'Solar Power']          0.5           1.0             1.0   \n",
       "\n",
       "   against_electric  against_fairy  against_fight  against_fire  \\\n",
       "0               0.5            0.5            0.5           2.0   \n",
       "1               0.5            0.5            0.5           2.0   \n",
       "2               0.5            0.5            0.5           2.0   \n",
       "3               1.0            0.5            1.0           0.5   \n",
       "4               1.0            0.5            1.0           0.5   \n",
       "\n",
       "   against_flying  against_ghost  against_grass  against_ground  against_ice  \\\n",
       "0             2.0            1.0           0.25             1.0          2.0   \n",
       "1             2.0            1.0           0.25             1.0          2.0   \n",
       "2             2.0            1.0           0.25             1.0          2.0   \n",
       "3             1.0            1.0           0.50             2.0          0.5   \n",
       "4             1.0            1.0           0.50             2.0          0.5   \n",
       "\n",
       "   against_normal  against_poison  against_psychic  against_rock  \\\n",
       "0             1.0             1.0              2.0           1.0   \n",
       "1             1.0             1.0              2.0           1.0   \n",
       "2             1.0             1.0              2.0           1.0   \n",
       "3             1.0             1.0              1.0           2.0   \n",
       "4             1.0             1.0              1.0           2.0   \n",
       "\n",
       "   against_steel  against_water  attack  base_egg_steps  base_happiness  \\\n",
       "0            1.0            0.5      49            5120              70   \n",
       "1            1.0            0.5      62            5120              70   \n",
       "2            1.0            0.5     100            5120              70   \n",
       "3            0.5            2.0      52            5120              70   \n",
       "4            0.5            2.0      64            5120              70   \n",
       "\n",
       "   base_total capture_rate   classfication  defense  experience_growth  \\\n",
       "0         318           45    Seed Pokémon       49            1059860   \n",
       "1         405           45    Seed Pokémon       63            1059860   \n",
       "2         625           45    Seed Pokémon      123            1059860   \n",
       "3         309           45  Lizard Pokémon       43            1059860   \n",
       "4         405           45   Flame Pokémon       58            1059860   \n",
       "\n",
       "   height_m  hp     japanese_name        name  percentage_male  \\\n",
       "0       0.7  45  Fushigidaneフシギダネ   Bulbasaur             88.1   \n",
       "1       1.0  60   Fushigisouフシギソウ     Ivysaur             88.1   \n",
       "2       2.0  80  Fushigibanaフシギバナ    Venusaur             88.1   \n",
       "3       0.6  39      Hitokageヒトカゲ  Charmander             88.1   \n",
       "4       1.1  58       Lizardoリザード  Charmeleon             88.1   \n",
       "\n",
       "   pokedex_number  sp_attack  sp_defense  speed  type1   type2  weight_kg  \\\n",
       "0               1         65          65     45  grass  poison        6.9   \n",
       "1               2         80          80     60  grass  poison       13.0   \n",
       "2               3        122         120     80  grass  poison      100.0   \n",
       "3               4         60          50     65   fire     NaN        8.5   \n",
       "4               5         80          65     80   fire     NaN       19.0   \n",
       "\n",
       "   generation  is_legendary  \n",
       "0           1             0  \n",
       "1           1             0  \n",
       "2           1             0  \n",
       "3           1             0  \n",
       "4           1             0  "
      ]
     },
     "execution_count": 96,
     "metadata": {},
     "output_type": "execute_result"
    }
   ],
   "source": [
    "df.head()"
   ]
  },
  {
   "cell_type": "code",
   "execution_count": 134,
   "metadata": {},
   "outputs": [],
   "source": [
    "dane = df[\"speed\"].to_numpy()"
   ]
  },
  {
   "cell_type": "markdown",
   "metadata": {},
   "source": [
    "<div style=\"text-align: center;\"><b>Przedziały ufności średniej dla</b></div>\n",
    "<div style=\"text-align: center;\"><b>$$1 - \\alpha  = 0.95 $$</b></div>"
   ]
  },
  {
   "cell_type": "markdown",
   "metadata": {},
   "source": [
    "$$ \n",
    "CI_{\\mu} = \\bar{x} - \\frac{s}{\\sqrt{n}} u_1 - \\frac{\\alpha}{2}; \\bar{x} + \\frac{s}{\\sqrt{n}} u_1 - \\frac{\\alpha}{2})\n",
    "$$"
   ]
  },
  {
   "cell_type": "code",
   "execution_count": 150,
   "metadata": {},
   "outputs": [
    {
     "data": {
      "text/plain": [
       "1.959963984540054"
      ]
     },
     "execution_count": 150,
     "metadata": {},
     "output_type": "execute_result"
    }
   ],
   "source": [
    "rozkladNormalny = st.norm(0,1)\n",
    "a = 1 - 0.95\n",
    "ua = rozkladNormalny.ppf(1-a/2)\n",
    "ua"
   ]
  },
  {
   "cell_type": "code",
   "execution_count": 151,
   "metadata": {},
   "outputs": [],
   "source": [
    "m = st.tmean(dane)\n",
    "sd = st.tstd(dane)"
   ]
  },
  {
   "cell_type": "code",
   "execution_count": 152,
   "metadata": {},
   "outputs": [],
   "source": [
    "CIm = [m - sd/math.sqrt(len(dane))*ua, m + sd/math.sqrt(len(dane))*ua]"
   ]
  },
  {
   "cell_type": "code",
   "execution_count": 153,
   "metadata": {},
   "outputs": [
    {
     "name": "stdout",
     "output_type": "stream",
     "text": [
      "Przedział ufności pokrywający średnią wartości w populacji generalnej z p=0.95:\n",
      "[70.87791563689076, 75.13956251541886]\n"
     ]
    }
   ],
   "source": [
    "print(\"Przedział ufności pokrywający średnią wartości w populacji generalnej z p={}:\".format(1-a))\n",
    "print(CIm)"
   ]
  },
  {
   "cell_type": "markdown",
   "metadata": {},
   "source": [
    "<div style=\"text-align: center;\"><b>Rozkład normalny Speed pokemonów.</b></div> "
   ]
  },
  {
   "cell_type": "code",
   "execution_count": 154,
   "metadata": {
    "scrolled": false
   },
   "outputs": [
    {
     "data": {
      "image/png": "[encoded data removed]",
      "text/plain": [
       "<Figure size 640x480 with 1 Axes>"
      ]
     },
     "metadata": {},
     "output_type": "display_data"
    }
   ],
   "source": [
    "p = st.norm.fit(dane)\n",
    "rozklad = st.norm(*p)\n",
    "\n",
    "x = np.linspace(min(dane),max(dane),500)\n",
    "plt.plot(x,rozklad.pdf(x))\n",
    "plt.hist(dane,bins=\"auto\",density=True,edgecolor=\"black\",color=\"white\")\n",
    "pass"
   ]
  },
  {
   "cell_type": "code",
   "execution_count": 124,
   "metadata": {},
   "outputs": [],
   "source": [
    "dane = df[\"attack\"].to_numpy()"
   ]
  },
  {
   "cell_type": "markdown",
   "metadata": {},
   "source": [
    "<div style=\"text-align: center;\"><b>Przedziały ufności średniej dla</b></div>\n",
    "<div style=\"text-align: center;\"><b>$$1 - \\alpha  = 0.95 $$</b></div>"
   ]
  },
  {
   "cell_type": "markdown",
   "metadata": {},
   "source": [
    "$$ \n",
    "CI_{\\mu} = \\bar{x} - \\frac{s}{\\sqrt{n}} u_1 - \\frac{\\alpha}{2}; \\bar{x} + \\frac{s}{\\sqrt{n}} u_1 - \\frac{\\alpha}{2})\n",
    "$$"
   ]
  },
  {
   "cell_type": "code",
   "execution_count": 155,
   "metadata": {},
   "outputs": [
    {
     "data": {
      "text/plain": [
       "1.959963984540054"
      ]
     },
     "execution_count": 155,
     "metadata": {},
     "output_type": "execute_result"
    }
   ],
   "source": [
    "rozkladNormalny = st.norm(0,1)\n",
    "a = 1 - 0.95\n",
    "ua = rozkladNormalny.ppf(1-a/2)\n",
    "ua"
   ]
  },
  {
   "cell_type": "code",
   "execution_count": 156,
   "metadata": {},
   "outputs": [],
   "source": [
    "m = st.tmean(dane)\n",
    "sd = st.tstd(dane)"
   ]
  },
  {
   "cell_type": "code",
   "execution_count": 157,
   "metadata": {},
   "outputs": [],
   "source": [
    "CIm = [m - sd/math.sqrt(len(dane))*ua, m + sd/math.sqrt(len(dane))*ua]"
   ]
  },
  {
   "cell_type": "code",
   "execution_count": 158,
   "metadata": {},
   "outputs": [
    {
     "name": "stdout",
     "output_type": "stream",
     "text": [
      "Przedział ufności pokrywający średnią wartości w populacji generalnej z p=0.95:\n",
      "[70.87791563689076, 75.13956251541886]\n"
     ]
    }
   ],
   "source": [
    "print(\"Przedział ufności pokrywający średnią wartości w populacji generalnej z p={}:\".format(1-a))\n",
    "print(CIm)"
   ]
  },
  {
   "cell_type": "markdown",
   "metadata": {},
   "source": [
    "<div style=\"text-align: center;\"><b>Rozkład normalny Attack pokemonów.</b></div>"
   ]
  },
  {
   "cell_type": "code",
   "execution_count": 159,
   "metadata": {},
   "outputs": [
    {
     "data": {
      "image/png": "[encoded data removed]",
      "text/plain": [
       "<Figure size 640x480 with 1 Axes>"
      ]
     },
     "metadata": {},
     "output_type": "display_data"
    }
   ],
   "source": [
    "p = st.norm.fit(dane)\n",
    "rozklad = st.norm(*p)\n",
    "\n",
    "x = np.linspace(min(dane),max(dane),500)\n",
    "plt.plot(x,rozklad.pdf(x))\n",
    "plt.hist(dane,bins=\"auto\",density=True,edgecolor=\"black\",color=\"white\")\n",
    "pass"
   ]
  },
  {
   "cell_type": "code",
   "execution_count": 160,
   "metadata": {},
   "outputs": [],
   "source": [
    "dane = df[\"defense\"].to_numpy()"
   ]
  },
  {
   "cell_type": "markdown",
   "metadata": {},
   "source": [
    "<div style=\"text-align: center;\"><b>Przedziały ufności średniej dla</b></div>\n",
    "<div style=\"text-align: center;\"><b>$$1 - \\alpha  = 0.95 $$</b></div>"
   ]
  },
  {
   "cell_type": "markdown",
   "metadata": {},
   "source": [
    "$$ \n",
    "CI_{\\mu} = \\bar{x} - \\frac{s}{\\sqrt{n}} u_1 - \\frac{\\alpha}{2}; \\bar{x} + \\frac{s}{\\sqrt{n}} u_1 - \\frac{\\alpha}{2})\n",
    "$$"
   ]
  },
  {
   "cell_type": "code",
   "execution_count": 161,
   "metadata": {},
   "outputs": [
    {
     "data": {
      "text/plain": [
       "1.959963984540054"
      ]
     },
     "execution_count": 161,
     "metadata": {},
     "output_type": "execute_result"
    }
   ],
   "source": [
    "rozkladNormalny = st.norm(0,1)\n",
    "a = 1 - 0.95\n",
    "ua = rozkladNormalny.ppf(1-a/2)\n",
    "ua"
   ]
  },
  {
   "cell_type": "code",
   "execution_count": 162,
   "metadata": {},
   "outputs": [],
   "source": [
    "m = st.tmean(dane)\n",
    "sd = st.tstd(dane)"
   ]
  },
  {
   "cell_type": "code",
   "execution_count": 163,
   "metadata": {},
   "outputs": [],
   "source": [
    "CIm = [m - sd/math.sqrt(len(dane))*ua, m + sd/math.sqrt(len(dane))*ua]"
   ]
  },
  {
   "cell_type": "code",
   "execution_count": 164,
   "metadata": {},
   "outputs": [
    {
     "name": "stdout",
     "output_type": "stream",
     "text": [
      "Przedział ufności pokrywający średnią wartości w populacji generalnej z p=0.95:\n",
      "[70.87791563689076, 75.13956251541886]\n"
     ]
    }
   ],
   "source": [
    "print(\"Przedział ufności pokrywający średnią wartości w populacji generalnej z p={}:\".format(1-a))\n",
    "print(CIm)"
   ]
  },
  {
   "cell_type": "markdown",
   "metadata": {},
   "source": [
    "<div style=\"text-align: center;\"><b>Rozkład normalny Defense</b></div> "
   ]
  },
  {
   "cell_type": "code",
   "execution_count": 165,
   "metadata": {},
   "outputs": [
    {
     "data": {
      "image/png": "[encoded data removed]",
      "text/plain": [
       "<Figure size 640x480 with 1 Axes>"
      ]
     },
     "metadata": {},
     "output_type": "display_data"
    }
   ],
   "source": [
    "p = st.norm.fit(dane)\n",
    "rozklad = st.norm(*p)\n",
    "\n",
    "x = np.linspace(min(dane),max(dane),500)\n",
    "plt.plot(x,rozklad.pdf(x))\n",
    "plt.hist(dane,bins=\"auto\",density=True,edgecolor=\"black\",color=\"white\")\n",
    "pass"
   ]
  },
  {
   "cell_type": "code",
   "execution_count": null,
   "metadata": {},
   "outputs": [],
   "source": []
  }
 ],
 "metadata": {
  "kernelspec": {
   "display_name": "Python 3 (ipykernel)",
   "language": "python",
   "name": "python3"
  },
  "language_info": {
   "codemirror_mode": {
    "name": "ipython",
    "version": 3
   },
   "file_extension": ".py",
   "mimetype": "text/x-python",
   "name": "python",
   "nbconvert_exporter": "python",
   "pygments_lexer": "ipython3",
   "version": "3.10.9"
  }
 },
 "nbformat": 4,
 "nbformat_minor": 2
}
