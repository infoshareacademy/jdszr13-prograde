{
 "cells": [
  {
   "cell_type": "code",
   "execution_count": 8,
   "metadata": {},
   "outputs": [],
   "source": [
    "import pandas as pd\n",
    "import matplotlib.pyplot as plt\n",
    "from Challenges import Challenges\n",
    "import numpy as np"
   ]
  },
  {
   "cell_type": "code",
   "execution_count": 2,
   "metadata": {},
   "outputs": [],
   "source": [
    "df = pd.read_csv('../data/pokemon.csv')"
   ]
  },
  {
   "cell_type": "code",
   "execution_count": 3,
   "metadata": {},
   "outputs": [],
   "source": [
    "df = pd.read_csv('../data/pokemon.csv')\n",
    "df1 = df\n",
    "df1['total'] = df['hp'] + df['attack'] + df['defense'] + df['sp_attack'] + df['sp_defense'] + df['speed']"
   ]
  },
  {
   "cell_type": "code",
   "execution_count": 4,
   "metadata": {},
   "outputs": [],
   "source": [
    "pd.set_option('display.max_columns', None)"
   ]
  },
  {
   "cell_type": "code",
   "execution_count": 5,
   "metadata": {},
   "outputs": [
    {
     "name": "stdout",
     "output_type": "stream",
     "text": [
      "{'attack': {'Mewtwo': 94, 'Kyogre': 96, 'Groudon': 99, 'Rayquaza': 100, 'Arceus': 92, 'Zygarde': 77}, 'defense': {'Mewtwo': 42, 'Kyogre': 80, 'Groudon': 100, 'Rayquaza': 83, 'Arceus': 92, 'Zygarde': 90}, 'hp': {'Mewtwo': 97, 'Kyogre': 95, 'Groudon': 88, 'Rayquaza': 90, 'Arceus': 93, 'Zygarde': 99}, 'sp_attack': {'Mewtwo': 100, 'Kyogre': 99, 'Groudon': 100, 'Rayquaza': 99, 'Arceus': 86, 'Zygarde': 74}, 'sp_defense': {'Mewtwo': 92, 'Kyogre': 100, 'Groudon': 78, 'Rayquaza': 85, 'Arceus': 95, 'Zygarde': 77}, 'speed': {'Mewtwo': 100, 'Kyogre': 77, 'Groudon': 78, 'Rayquaza': 96, 'Arceus': 98, 'Zygarde': 73}}\n",
      "Out of possible 3600 wins, team Profesor achieved: 3214. That is 89%.\n",
      "{'attack': {'Mewtwo': 99, 'Kyogre': 95, 'Groudon': 100, 'Rayquaza': 100, 'Garchomp': 100, 'Arceus': 79}, 'defense': {'Mewtwo': 45, 'Kyogre': 62, 'Groudon': 98, 'Rayquaza': 82, 'Garchomp': 85, 'Arceus': 93}, 'hp': {'Mewtwo': 95, 'Kyogre': 92, 'Groudon': 93, 'Rayquaza': 88, 'Garchomp': 96, 'Arceus': 96}, 'sp_attack': {'Mewtwo': 100, 'Kyogre': 99, 'Groudon': 100, 'Rayquaza': 100, 'Garchomp': 90, 'Arceus': 90}, 'sp_defense': {'Mewtwo': 92, 'Kyogre': 100, 'Groudon': 75, 'Rayquaza': 87, 'Garchomp': 84, 'Arceus': 94}, 'speed': {'Mewtwo': 99, 'Kyogre': 74, 'Groudon': 76, 'Rayquaza': 95, 'Garchomp': 71, 'Arceus': 95}}\n",
      "Out of possible 3600 wins, team Grazyna achieved: 3219. That is 89%.\n",
      "{'attack': {'Mewtwo': 97, 'Lugia': 56, 'Blaziken': 96, 'Rayquaza': 99, 'Garchomp': 100, 'Arceus': 86}, 'defense': {'Mewtwo': 53, 'Lugia': 94, 'Blaziken': 58, 'Rayquaza': 89, 'Garchomp': 91, 'Arceus': 96}, 'hp': {'Mewtwo': 90, 'Lugia': 89, 'Blaziken': 67, 'Rayquaza': 92, 'Garchomp': 96, 'Arceus': 94}, 'sp_attack': {'Mewtwo': 100, 'Lugia': 84, 'Blaziken': 89, 'Rayquaza': 98, 'Garchomp': 85, 'Arceus': 93}, 'sp_defense': {'Mewtwo': 92, 'Lugia': 100, 'Blaziken': 70, 'Rayquaza': 85, 'Garchomp': 76, 'Arceus': 96}, 'speed': {'Mewtwo': 100, 'Lugia': 87, 'Blaziken': 88, 'Rayquaza': 92, 'Garchomp': 77, 'Arceus': 96}}\n",
      "Out of possible 3600 wins, team Piotr achieved: 3151. That is 87%.\n"
     ]
    }
   ],
   "source": [
    "player_team_profesor= df[df['name'].isin(['Mewtwo', 'Rayquaza', 'Groudon', 'Kyogre', 'Arceus', 'Zygarde'])]\n",
    "player_team_piotr = df[df['name'].isin(['Blaziken','Garchomp','Rayquaza','Arceus','Mewtwo','Lugia'])]\n",
    "player_team_grazyna = df[df['name'].isin(['Mewtwo','Rayquaza','Groudon','Kyogre','Arceus','Garchomp'])]\n",
    "\n",
    "challenge_team_profesor = Challenges(player_team_profesor, 'Profesor', df)\n",
    "challenge_team_piotr = Challenges(player_team_piotr, 'Piotr', df)\n",
    "challenge_team_grazyna = Challenges(player_team_grazyna, 'Grazyna', df)\n",
    "\n",
    "profesor = challenge_team_profesor.perform_all_challenges()\n",
    "grazyna = challenge_team_grazyna.perform_all_challenges()\n",
    "piotr = challenge_team_piotr.perform_all_challenges()"
   ]
  },
  {
   "cell_type": "code",
   "execution_count": 9,
   "metadata": {},
   "outputs": [],
   "source": [
    "def wins_per_challenge(team):\n",
    "    challenge_types = ['attack', 'defense', 'hp', 'sp_attack', 'sp_defense', 'speed']\n",
    "    wins = []\n",
    "\n",
    "    for challenge in challenge_types:\n",
    "        wins.append(np.sum(list(team[challenge].values())))\n",
    "    return wins"
   ]
  },
  {
   "cell_type": "code",
   "execution_count": 10,
   "metadata": {},
   "outputs": [],
   "source": [
    "wins_per_challenge_profesor = wins_per_challenge(profesor)\n",
    "wins_per_challenge_grazyna = wins_per_challenge(grazyna)\n",
    "wins_per_challenge_piotr = wins_per_challenge(piotr)"
   ]
  },
  {
   "cell_type": "code",
   "execution_count": null,
   "metadata": {},
   "outputs": [
    {
     "data": {
      "text/plain": [
       "564"
      ]
     },
     "execution_count": 36,
     "metadata": {},
     "output_type": "execute_result"
    }
   ],
   "source": []
  }
 ],
 "metadata": {
  "kernelspec": {
   "display_name": "base",
   "language": "python",
   "name": "python3"
  },
  "language_info": {
   "codemirror_mode": {
    "name": "ipython",
    "version": 3
   },
   "file_extension": ".py",
   "mimetype": "text/x-python",
   "name": "python",
   "nbconvert_exporter": "python",
   "pygments_lexer": "ipython3",
   "version": "3.9.13"
  }
 },
 "nbformat": 4,
 "nbformat_minor": 2
}
