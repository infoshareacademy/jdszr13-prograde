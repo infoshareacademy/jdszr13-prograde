{
 "cells": [
  {
   "cell_type": "code",
   "execution_count": 2,
   "metadata": {},
   "outputs": [],
   "source": [
    "import pandas as pd\n",
    "from Challenge import Challenge "
   ]
  },
  {
   "cell_type": "code",
   "execution_count": 3,
   "metadata": {},
   "outputs": [],
   "source": [
    "pd.set_option('display.max_columns', None)"
   ]
  },
  {
   "cell_type": "code",
   "execution_count": 4,
   "metadata": {},
   "outputs": [],
   "source": [
    "df = pd.read_csv('../data/pokemon.csv')\n",
    "\n"
   ]
  },
  {
   "cell_type": "code",
   "execution_count": 5,
   "metadata": {},
   "outputs": [],
   "source": [
    "player_team_profesor_mikolaj = df.sort_values('base_total', ascending=False).head(6).reset_index()\n",
    "\n",
    "player_team = df.sample(6)\n"
   ]
  },
  {
   "cell_type": "code",
   "execution_count": 6,
   "metadata": {},
   "outputs": [
    {
     "name": "stdout",
     "output_type": "stream",
     "text": [
      "Profesor Mikołaj: (515, 600) Rando: (351, 600)\n"
     ]
    }
   ],
   "source": [
    "challenge_type = 'speed'\n",
    "\n",
    "challenge_profesor_mikolaj = Challenge(player_team_profesor_mikolaj, df, challenge_type)\n",
    "challenge_random = Challenge(player_team, df, challenge_type)\n",
    "\n",
    "profesor_mikolaj = challenge_profesor_mikolaj.perform_challenge()\n",
    "rando = challenge_random.perform_challenge()\n",
    "\n",
    "\n",
    "print(f'Profesor Mikołaj: {profesor_mikolaj} Rando: {rando}')"
   ]
  }
 ],
 "metadata": {
  "kernelspec": {
   "display_name": "Python 3.11.3",
   "language": "python",
   "name": "hello"
  },
  "language_info": {
   "codemirror_mode": {
    "name": "ipython",
    "version": 3
   },
   "file_extension": ".py",
   "mimetype": "text/x-python",
   "name": "python",
   "nbconvert_exporter": "python",
   "pygments_lexer": "ipython3",
   "version": "3.11.3"
  },
  "orig_nbformat": 4
 },
 "nbformat": 4,
 "nbformat_minor": 2
}
