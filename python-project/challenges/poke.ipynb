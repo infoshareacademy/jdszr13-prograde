{
 "cells": [
  {
   "cell_type": "code",
   "execution_count": 1,
   "metadata": {},
   "outputs": [],
   "source": [
    "import pandas as pd\n",
    "from Challenge import Challenge "
   ]
  },
  {
   "cell_type": "code",
   "execution_count": 2,
   "metadata": {},
   "outputs": [],
   "source": [
    "pd.set_option('display.max_columns', None)"
   ]
  },
  {
   "cell_type": "code",
   "execution_count": 3,
   "metadata": {},
   "outputs": [],
   "source": [
    "df = pd.read_csv('../data/pokemon.csv')"
   ]
  },
  {
   "cell_type": "code",
   "execution_count": 4,
   "metadata": {},
   "outputs": [],
   "source": [
    "def choose_random_opponent():\n",
    "        return df.sample(1).reset_index()\n",
    "\n",
    "def perform_challange(player_team, type_of_challenge):\n",
    "    print(player_team['name'])\n",
    "    number_of_wins = 0\n",
    "    number_of_losses = 0\n",
    "    for i in range(len(player_team)):\n",
    "        for _ in range(10):\n",
    "            opponent = choose_random_opponent()\n",
    "            print(opponent['name'])\n",
    "            if player_team[type_of_challenge].iloc[i] > opponent[type_of_challenge].iloc[0]:\n",
    "                number_of_wins += 1\n",
    "            else: \n",
    "                 number_of_losses += 1\n",
    "    return (number_of_wins, number_of_losses)"
   ]
  },
  {
   "cell_type": "code",
   "execution_count": 5,
   "metadata": {},
   "outputs": [],
   "source": [
    "player_team = df.sample(6).reset_index()\n",
    "\n",
    "challenge = Challenge(player_team, df, 'attack')"
   ]
  },
  {
   "cell_type": "code",
   "execution_count": 7,
   "metadata": {},
   "outputs": [
    {
     "data": {
      "text/plain": [
       "572"
      ]
     },
     "execution_count": 7,
     "metadata": {},
     "output_type": "execute_result"
    }
   ],
   "source": [
    "x = challenge.perform_challenge()\n",
    "x"
   ]
  }
 ],
 "metadata": {
  "kernelspec": {
   "display_name": "Python 3.11.3",
   "language": "python",
   "name": "hello"
  },
  "language_info": {
   "codemirror_mode": {
    "name": "ipython",
    "version": 3
   },
   "file_extension": ".py",
   "mimetype": "text/x-python",
   "name": "python",
   "nbconvert_exporter": "python",
   "pygments_lexer": "ipython3",
   "version": "3.11.3"
  },
  "orig_nbformat": 4
 },
 "nbformat": 4,
 "nbformat_minor": 2
}
